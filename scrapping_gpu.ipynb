{
 "cells": [
  {
   "cell_type": "code",
   "execution_count": 3,
   "metadata": {},
   "outputs": [],
   "source": [
    "import requests\n",
    "#from bs4 import BeautifulSoup as bs\n",
    "import lxml\n",
    "import re\n",
    "import csv\n",
    "import os\n",
    "import shutil\n",
    "import urllib\n",
    "import time \n",
    "import datetime\n",
    "from csv import writer"
   ]
  },
  {
   "cell_type": "code",
   "execution_count": 7,
   "metadata": {},
   "outputs": [],
   "source": [
    "insee_list= ['200068807', '200068815', '200066819']\n",
    "insee_list_ = ['31330','31051','31047','31189','31173','31454','31320','31375','31111','31033','31474','31196','31345','31530','31327','31084','31365','31574','31267','31107','31292','31428','31349','31324','31422','31229','31122','31492','31399','31250','31256','31419','31362','31525','31312','31299','31406','31455','31334','31425','31280','31436','31572','31052','31476','31272','31145','31264','31442','31382','31353','31266','31361','31379','31071','31101','31024','31318','31319','31153','31135','31261','31193','31481','31387','31359','31065','31206','31517','31303','31204','31219','31231','31225','31226','31103','31416','31233','31258','31279','31104','31286','31520','31309','31367','31505','31317','31370','31119','31469','31326','31263','31543','31538','31423','31435','31283','31128','31027']\n",
    "#"
   ]
  },
  {
   "cell_type": "code",
   "execution_count": 8,
   "metadata": {},
   "outputs": [
    {
     "name": "stdout",
     "output_type": "stream",
     "text": [
      "https://www.geoportail-urbanisme.gouv.fr/document/download-by-partition/DU_200068807\n",
      "200068807  : NOT_FOUND\n",
      "https://www.geoportail-urbanisme.gouv.fr/document/download-by-partition/DU_200068815\n",
      "200068815  : NOT_FOUND\n",
      "https://www.geoportail-urbanisme.gouv.fr/document/download-by-partition/DU_200066819\n",
      "200066819  : NOT_FOUND\n"
     ]
    }
   ],
   "source": [
    "dir = 'C:/_CLIENT/PST/_RAW_2022/opendata/DOC_URBA_20220413/GPU'\n",
    "url_gpu = 'https://www.geoportail-urbanisme.gouv.fr/document/download-by-partition/DU_'\n",
    "for insee in insee_list :\n",
    "        print(url_gpu + insee)\n",
    "        try :\n",
    "            response = urllib.request.urlopen(url_gpu + insee)\n",
    "            print( response.getcode())\n",
    "            file = open(dir +'/'+ insee + '.zip' , 'wb')\n",
    "            file.write(response.read())\n",
    "            file.close()\n",
    "            time.sleep(0.5)\n",
    "            print('DOWNLOADED')\n",
    "        except:\n",
    "            print(insee , ' : NOT_FOUND')"
   ]
  },
  {
   "cell_type": "code",
   "execution_count": 6,
   "metadata": {},
   "outputs": [
    {
     "name": "stdout",
     "output_type": "stream",
     "text": [
      "https://www.geoportail-urbanisme.gouv.fr/document/download-by-partition/DU_35109\n",
      "<http.client.HTTPResponse object at 0x000001E928E71788>\n",
      "https://www.geoportail-urbanisme.gouv.fr/document/download-by-partition/DU_35165\n",
      "35165  : NOT_FOUND\n",
      "https://www.geoportail-urbanisme.gouv.fr/document/download-by-partition/DU_35042\n",
      "35042  : NOT_FOUND\n",
      "https://www.geoportail-urbanisme.gouv.fr/document/download-by-partition/DU_35097\n",
      "35097  : NOT_FOUND\n",
      "https://www.geoportail-urbanisme.gouv.fr/document/download-by-partition/DU_35014\n",
      "35014  : NOT_FOUND\n",
      "https://www.geoportail-urbanisme.gouv.fr/document/download-by-partition/DU_35087\n",
      "35087  : NOT_FOUND\n",
      "https://www.geoportail-urbanisme.gouv.fr/document/download-by-partition/DU_35264\n",
      "35264  : NOT_FOUND\n",
      "https://www.geoportail-urbanisme.gouv.fr/document/download-by-partition/DU_35283\n",
      "35283  : NOT_FOUND\n",
      "https://www.geoportail-urbanisme.gouv.fr/document/download-by-partition/DU_35105\n"
     ]
    }
   ],
   "source": [
    "dir = 'C:/_CLIENT/PV/_RAW_2022/_OPENDATA/DOC_URBA_20220124/GPU'\n",
    "url_gpu = 'https://www.geoportail-urbanisme.gouv.fr/document/download-by-partition/DU_'\n",
    "for insee in insee_list :\n",
    "        print(url_gpu + insee)\n",
    "        try :\n",
    "            response = urllib.request.urlopen(url_gpu + insee)\n",
    "            print( response) #.getcode()\n",
    "            # file = open(dir +'/'+ insee + '.zip' , 'wb')\n",
    "            # file.write(response.read())\n",
    "            # file.close()\n",
    "            # time.sleep(0.5)\n",
    "            # print('DOWNLOADED')\n",
    "        except:\n",
    "            print(insee , ' : NOT_FOUND')"
   ]
  }
 ],
 "metadata": {
  "interpreter": {
   "hash": "530d8f2c62d8c9aee91255b847999d78eb2783eb691ceea94858c0e2dffecd5e"
  },
  "kernelspec": {
   "display_name": "scrap",
   "language": "python",
   "name": "python3"
  },
  "language_info": {
   "codemirror_mode": {
    "name": "ipython",
    "version": 3
   },
   "file_extension": ".py",
   "mimetype": "text/x-python",
   "name": "python",
   "nbconvert_exporter": "python",
   "pygments_lexer": "ipython3",
   "version": "3.7.11"
  }
 },
 "nbformat": 4,
 "nbformat_minor": 4
}
